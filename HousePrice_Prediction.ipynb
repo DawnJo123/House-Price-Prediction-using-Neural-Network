{
  "nbformat": 4,
  "nbformat_minor": 0,
  "metadata": {
    "colab": {
      "provenance": []
    },
    "kernelspec": {
      "name": "python3",
      "display_name": "Python 3"
    },
    "language_info": {
      "name": "python"
    }
  },
  "cells": [
    {
      "cell_type": "code",
      "execution_count": 1,
      "metadata": {
        "id": "gQ6ym0yLoucQ"
      },
      "outputs": [],
      "source": [
        "import torch\n",
        "import torch.nn as nn\n",
        "import torch.nn.functional as F\n",
        "from torch.utils.data import Dataset, DataLoader\n",
        "from sklearn.model_selection import train_test_split\n",
        "import numpy as np\n",
        "import pandas as pd\n",
        "import matplotlib.pyplot as plt\n",
        "from sklearn.datasets import fetch_california_housing\n",
        "from sklearn.preprocessing import StandardScaler"
      ]
    },
    {
      "cell_type": "code",
      "source": [
        "data=fetch_california_housing()\n",
        "x=data.data\n",
        "y=data.target\n"
      ],
      "metadata": {
        "id": "skAoiRTQsLxf"
      },
      "execution_count": 2,
      "outputs": []
    },
    {
      "cell_type": "code",
      "source": [
        "scaler = StandardScaler()\n",
        "X_scaled = scaler.fit_transform(x)"
      ],
      "metadata": {
        "id": "s68Y3AMv1EqX"
      },
      "execution_count": 3,
      "outputs": []
    },
    {
      "cell_type": "code",
      "source": [
        "xtrain,xtest,ytrain,ytest=train_test_split(X_scaled,y,test_size=0.2)"
      ],
      "metadata": {
        "id": "Amz2NlyltIbe"
      },
      "execution_count": 4,
      "outputs": []
    },
    {
      "cell_type": "code",
      "source": [
        "xtrain = xtrain.astype('float32')\n",
        "xtest = xtest.astype('float32')\n",
        "ytrain = ytrain.astype('float32')\n",
        "ytest = ytest.astype('float32')\n"
      ],
      "metadata": {
        "id": "-URZcTc21vCf"
      },
      "execution_count": 5,
      "outputs": []
    },
    {
      "cell_type": "code",
      "source": [
        "xtrain = torch.FloatTensor(xtrain)\n",
        "xtest = torch.FloatTensor(xtest)\n",
        "ytrain = torch.FloatTensor(ytrain)\n",
        "ytest = torch.FloatTensor(ytest)"
      ],
      "metadata": {
        "id": "sBD8tjMssK6W"
      },
      "execution_count": 6,
      "outputs": []
    },
    {
      "cell_type": "code",
      "source": [
        "class Model(nn.Module):\n",
        "    def __init__(self,input_features=8,hidden_layer1=25,hidden_layer2=30,output_features=1):\n",
        "        super().__init__()\n",
        "        self.fc1=nn.Linear(input_features,hidden_layer1)\n",
        "        self.fc2=nn.Linear(hidden_layer1,hidden_layer2)\n",
        "        self.out=nn.Linear(hidden_layer2,output_features)\n",
        "\n",
        "    def forward(self, x):\n",
        "        x = F.relu(self.fc1(x))\n",
        "        x = F.relu(self.fc2(x))\n",
        "        x = self.out(x)\n",
        "        return x\n",
        "\n",
        "model=Model()\n",
        "\n",
        "criterion = nn.MSELoss()\n",
        "optimizer = torch.optim.Adam(model.parameters(), lr=0.01)\n",
        "epochs = 100\n",
        "losses = []\n",
        "\n",
        "for i in range(epochs):\n",
        "\n",
        "    y_pred = model.forward(xtrain)\n",
        "    loss= criterion(y_pred, ytrain)\n",
        "    losses.append(loss.detach())\n",
        "    print(f'epoch: {i:2}  loss: {loss.item():10.8f}')\n",
        "    optimizer.zero_grad()\n",
        "    loss.backward()\n",
        "    optimizer.step()\n",
        "\n",
        "plt.plot(range(epochs), losses)\n",
        "plt.ylabel('Loss')\n",
        "plt.xlabel('epoch')\n",
        "\n",
        "preds = []\n",
        "with torch.no_grad():\n",
        "    for val in xtest:\n",
        "        y_hat = model.forward(val)\n",
        "        preds.append(y_hat.argmax().item())\n"
      ],
      "metadata": {
        "id": "N8aKY2est0bQ",
        "collapsed": true
      },
      "execution_count": null,
      "outputs": []
    },
    {
      "cell_type": "code",
      "source": [
        "inputs_new = torch.tensor(xtest, dtype=torch.float32)\n",
        "\n",
        "# Make predictions\n",
        "with torch.no_grad():\n",
        "    predictions = model(inputs_new)\n",
        "\n",
        "# Convert predictions tensor to numpy array\n",
        "predictions = predictions.numpy()\n",
        "\n",
        "# Print the predictions\n",
        "print(predictions)"
      ],
      "metadata": {
        "id": "D64PRyrasK9V"
      },
      "execution_count": null,
      "outputs": []
    },
    {
      "cell_type": "code",
      "source": [
        "from sklearn.metrics import mean_squared_error\n",
        "\n",
        "# Calculate Mean Squared Error (MSE)\n",
        "mse = mean_squared_error(ytest, predictions)\n",
        "print(\"Mean Squared Error:\", mse)\n"
      ],
      "metadata": {
        "id": "MeLLaJywsLFv",
        "colab": {
          "base_uri": "https://localhost:8080/"
        },
        "outputId": "80f18af9-c78b-4a63-ce01-42008f30a449"
      },
      "execution_count": 9,
      "outputs": [
        {
          "output_type": "stream",
          "name": "stdout",
          "text": [
            "Mean Squared Error: 1.3161376\n"
          ]
        }
      ]
    }
  ]
}